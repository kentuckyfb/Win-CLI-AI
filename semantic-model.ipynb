{
 "cells": [
  {
   "cell_type": "code",
   "execution_count": 2,
   "id": "05dac536",
   "metadata": {},
   "outputs": [
    {
     "name": "stderr",
     "output_type": "stream",
     "text": [
      "c:\\Python312\\Lib\\site-packages\\tqdm\\auto.py:21: TqdmWarning: IProgress not found. Please update jupyter and ipywidgets. See https://ipywidgets.readthedocs.io/en/stable/user_install.html\n",
      "  from .autonotebook import tqdm as notebook_tqdm\n"
     ]
    },
    {
     "name": "stdout",
     "output_type": "stream",
     "text": [
      "WARNING:tensorflow:From c:\\Python312\\Lib\\site-packages\\tf_keras\\src\\losses.py:2976: The name tf.losses.sparse_softmax_cross_entropy is deprecated. Please use tf.compat.v1.losses.sparse_softmax_cross_entropy instead.\n",
      "\n"
     ]
    }
   ],
   "source": [
    "from sentence_transformers import SentenceTransformer\n",
    "import numpy as np\n",
    "import json\n",
    "import faiss\n",
    "import pickle\n",
    "import json"
   ]
  },
  {
   "cell_type": "code",
   "execution_count": 3,
   "id": "eddecb4e",
   "metadata": {},
   "outputs": [
    {
     "name": "stdout",
     "output_type": "stream",
     "text": [
      "[{'command': 'FREEDISK', 'score': 0.6566748023033142}, {'command': 'DU', 'score': 0.5509358644485474}, {'command': 'CHKNTFS', 'score': 0.4439757466316223}]\n"
     ]
    }
   ],
   "source": [
    "# Load data\n",
    "with open('data/data.json') as f:\n",
    "    data = json.load(f)\n",
    "\n",
    "# Prepare data\n",
    "commands = list({item['command']: item for item in data}.values())  # Get unique commands\n",
    "command_texts = [\n",
    "    f\"{cmd['command']}: {cmd['description']}. Examples: {' '.join(cmd['examples'])}\" \n",
    "    for cmd in commands\n",
    "]\n",
    "command_ids = [cmd['command'] for cmd in commands]\n",
    "\n",
    "# Load model\n",
    "model = SentenceTransformer('all-MiniLM-L6-v2')\n",
    "\n",
    "# Encode commands\n",
    "command_embeddings = model.encode(command_texts)\n",
    "\n",
    "# Create FAISS index for efficient search\n",
    "dimension = command_embeddings.shape[1]\n",
    "index = faiss.IndexFlatIP(dimension)\n",
    "faiss.normalize_L2(command_embeddings)\n",
    "index.add(command_embeddings)\n",
    "\n",
    "# Save the system\n",
    "model.save('command_search_model')\n",
    "faiss.write_index(index, 'command_index.faiss')\n",
    "with open('command_ids.pkl', 'wb') as f:\n",
    "    pickle.dump(command_ids, f)\n",
    "\n",
    "# Usage example\n",
    "def find_command(query, k=3):\n",
    "    # Encode query\n",
    "    query_embedding = model.encode([query])\n",
    "    faiss.normalize_L2(query_embedding)\n",
    "    \n",
    "    # Search\n",
    "    distances, indices = index.search(query_embedding, k)\n",
    "    \n",
    "    # Return results\n",
    "    results = []\n",
    "    for i in range(k):\n",
    "        results.append({\n",
    "            'command': command_ids[indices[0][i]],\n",
    "            'score': float(distances[0][i])\n",
    "        })\n",
    "    return results\n",
    "\n",
    "# Test\n",
    "print(find_command(\"how to check disk space\"))"
   ]
  }
 ],
 "metadata": {
  "kernelspec": {
   "display_name": "Python 3",
   "language": "python",
   "name": "python3"
  },
  "language_info": {
   "codemirror_mode": {
    "name": "ipython",
    "version": 3
   },
   "file_extension": ".py",
   "mimetype": "text/x-python",
   "name": "python",
   "nbconvert_exporter": "python",
   "pygments_lexer": "ipython3",
   "version": "3.12.4"
  }
 },
 "nbformat": 4,
 "nbformat_minor": 5
}
